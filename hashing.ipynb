{
 "cells": [
  {
   "cell_type": "markdown",
   "id": "599ef0ea",
   "metadata": {},
   "source": [
    "# hashing"
   ]
  },
  {
   "cell_type": "markdown",
   "id": "4c6c6d45",
   "metadata": {},
   "source": [
    "What is hashing?\n",
    "- prestoring values in some datastructure like list, set, dictionary and then fetching it."
   ]
  },
  {
   "cell_type": "markdown",
   "id": "296ed826",
   "metadata": {},
   "source": [
    "frequency map is also aka dictionary"
   ]
  },
  {
   "cell_type": "markdown",
   "id": "02e9c20f",
   "metadata": {},
   "source": [
    "find the frequency count of array of numbers"
   ]
  },
  {
   "cell_type": "code",
   "execution_count": 2,
   "id": "de2a260e",
   "metadata": {},
   "outputs": [
    {
     "name": "stdout",
     "output_type": "stream",
     "text": [
      "{0: 1, 1: 3, 4: 3, 6: 3, 7: 1, 8: 2, 9: 2}\n"
     ]
    }
   ],
   "source": [
    "import pprint\n",
    "a = [1,4,6,7,8,9,1,4,6,1,4,6,8,9,0]\n",
    "\n",
    "freq_map = {}\n",
    "for i in range(len(a)):\n",
    "    freq_map[a[i]] = freq_map.get(a[i], 0) + 1\n",
    "pprint.pprint(freq_map)\n"
   ]
  },
  {
   "cell_type": "markdown",
   "id": "fab0ff8e",
   "metadata": {},
   "source": [
    "find the occurances of elements of m in n and print there frequency"
   ]
  },
  {
   "cell_type": "code",
   "execution_count": 3,
   "id": "6c006e64",
   "metadata": {},
   "outputs": [
    {
     "name": "stdout",
     "output_type": "stream",
     "text": [
      "{1: 4, 5: 3, 6: 5, 9: 4, 33: 0, 43: 0, 765: 0}\n"
     ]
    }
   ],
   "source": [
    "n = [1,1,5,6,7,8,9,0,4,6,8,9,0,6,4,3,2,1,4,5,6,7,8,9,0,3,2,1,4,5,6,7,8,9,0]\n",
    "m = [1,33,5,765,6,9,43]\n",
    "\n",
    "freq_map_n = {}\n",
    "freq_map_m = {}\n",
    "for i in range(len(n)):\n",
    "    freq_map_n[n[i]] = freq_map_n.get(n[i], 0) + 1\n",
    "\n",
    "for j in range(len(m)):\n",
    "    freq_map_m[m[j]] = freq_map_n.get(m[j], 0) \n",
    "pprint.pprint(freq_map_m)\n"
   ]
  },
  {
   "cell_type": "code",
   "execution_count": null,
   "id": "789c7f2a",
   "metadata": {},
   "outputs": [],
   "source": []
  }
 ],
 "metadata": {
  "kernelspec": {
   "display_name": "venv",
   "language": "python",
   "name": "python3"
  },
  "language_info": {
   "codemirror_mode": {
    "name": "ipython",
    "version": 3
   },
   "file_extension": ".py",
   "mimetype": "text/x-python",
   "name": "python",
   "nbconvert_exporter": "python",
   "pygments_lexer": "ipython3",
   "version": "3.10.11"
  }
 },
 "nbformat": 4,
 "nbformat_minor": 5
}
