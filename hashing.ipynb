{
 "cells": [
  {
   "cell_type": "markdown",
   "id": "599ef0ea",
   "metadata": {},
   "source": [
    "# hashing"
   ]
  },
  {
   "cell_type": "markdown",
   "id": "4c6c6d45",
   "metadata": {},
   "source": [
    "What is hashing?\n",
    "- prestoring values in some datastructure like list, set, dictionary and then fetching it."
   ]
  },
  {
   "cell_type": "markdown",
   "id": "296ed826",
   "metadata": {},
   "source": [
    "frequency map is also aka dictionary"
   ]
  },
  {
   "cell_type": "markdown",
   "id": "02e9c20f",
   "metadata": {},
   "source": [
    "find the frequency count of array of numbers"
   ]
  },
  {
   "cell_type": "code",
   "execution_count": 2,
   "id": "de2a260e",
   "metadata": {},
   "outputs": [
    {
     "name": "stdout",
     "output_type": "stream",
     "text": [
      "{0: 1, 1: 3, 4: 3, 6: 3, 7: 1, 8: 2, 9: 2}\n"
     ]
    }
   ],
   "source": [
    "import pprint\n",
    "a = [1,4,6,7,8,9,1,4,6,1,4,6,8,9,0]\n",
    "\n",
    "freq_map = {}\n",
    "for i in range(len(a)):\n",
    "    freq_map[a[i]] = freq_map.get(a[i], 0) + 1\n",
    "pprint.pprint(freq_map)\n"
   ]
  },
  {
   "cell_type": "markdown",
   "id": "fab0ff8e",
   "metadata": {},
   "source": [
    "find the occurances of elements of m in n and print there frequency\n",
    "- constrints:\n",
    "- 1<= n[i] <= 10\n",
    "- n can have 10^8 elements\n",
    "- m can have 10^8 elements\n",
    "\n",
    "so here we can use nested for loop to iterate through both the list as space complexity will cross 10^8 and will give error TLE"
   ]
  },
  {
   "cell_type": "code",
   "execution_count": 3,
   "id": "6c006e64",
   "metadata": {},
   "outputs": [
    {
     "name": "stdout",
     "output_type": "stream",
     "text": [
      "{1: 4, 5: 3, 6: 5, 9: 4, 33: 0, 43: 0, 765: 0}\n"
     ]
    }
   ],
   "source": [
    "n = [1,1,5,6,7,8,9,0,4,6,8,9,0,6,4,3,2,1,4,5,6,7,8,9,0,3,2,1,4,5,6,7,8,9,0]\n",
    "m = [1,33,5,765,6,9,43]\n",
    "\n",
    "freq_map_n = {}\n",
    "freq_map_m = {}\n",
    "for i in range(len(n)):\n",
    "    freq_map_n[n[i]] = freq_map_n.get(n[i], 0) + 1\n",
    "\n",
    "for j in range(len(m)):\n",
    "    freq_map_m[m[j]] = freq_map_n.get(m[j], 0) \n",
    "pprint.pprint(freq_map_m)\n"
   ]
  },
  {
   "cell_type": "markdown",
   "id": "904d9146",
   "metadata": {},
   "source": [
    "another way of doing above problem"
   ]
  },
  {
   "cell_type": "code",
   "execution_count": 10,
   "id": "789c7f2a",
   "metadata": {},
   "outputs": [
    {
     "name": "stdout",
     "output_type": "stream",
     "text": [
      "[4, 4, 2, 2, 4, 3, 5, 3, 4, 4, 0]\n",
      "{0: 4, 1: 4, 5: 3, 6: 5, 9: 4, 33: 0, 43: 0, 765: 0}\n"
     ]
    }
   ],
   "source": [
    "n = [1,1,5,6,7,8,9,0,4,6,8,9,0,6,4,3,2,1,4,5,6,7,8,9,0,3,2,1,4,5,6,7,8,9,0]\n",
    "m = [1,33,5,765,6,9,43,0]\n",
    "\n",
    "hash_map = [0]*11  # as constraints are 1<= n[i] <= 10\n",
    "for i in n:\n",
    "    hash_map[i] += 1\n",
    "pprint.pprint(hash_map)\n",
    "result = {}\n",
    "for j in m:\n",
    "    if j<0 or j>9:\n",
    "        result[j] = hash_map[10]\n",
    "    else:\n",
    "        result[j] = hash_map[j]\n",
    "\n",
    "pprint.pprint(result)"
   ]
  },
  {
   "cell_type": "markdown",
   "id": "bb329c6c",
   "metadata": {},
   "source": [
    "a = 'acghdhsjfgdafdsafacsfsfdfsafokoooooooooooo'\n",
    "b = 'asdfg'\n",
    "find the occurances of element of b in a"
   ]
  },
  {
   "cell_type": "code",
   "execution_count": 13,
   "id": "fb06a8f5",
   "metadata": {},
   "outputs": [
    {
     "name": "stdout",
     "output_type": "stream",
     "text": [
      "a : 5\n",
      "s : 5\n",
      "d : 4\n",
      "f : 7\n",
      "g : 2\n"
     ]
    }
   ],
   "source": [
    "a = 'acghdhsjfgdafdsafacsfsfdfsafokoooooooooooo'\n",
    "b = 'asdfg'\n",
    "hash_map = [0]*26\n",
    "for char in a:\n",
    "    hash_map[ord(char)-97]+=1\n",
    "for j in b:\n",
    "    print(f\"{j} : {hash_map[ord(j)-97]}\") "
   ]
  },
  {
   "cell_type": "code",
   "execution_count": null,
   "id": "c39a3d1b",
   "metadata": {},
   "outputs": [],
   "source": []
  }
 ],
 "metadata": {
  "kernelspec": {
   "display_name": "venv",
   "language": "python",
   "name": "python3"
  },
  "language_info": {
   "codemirror_mode": {
    "name": "ipython",
    "version": 3
   },
   "file_extension": ".py",
   "mimetype": "text/x-python",
   "name": "python",
   "nbconvert_exporter": "python",
   "pygments_lexer": "ipython3",
   "version": "3.10.11"
  }
 },
 "nbformat": 4,
 "nbformat_minor": 5
}
