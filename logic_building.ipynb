{
 "cells": [
  {
   "cell_type": "markdown",
   "id": "5290f95a",
   "metadata": {},
   "source": [
    "1. The code aims to solve the problem of reversing the digits of a 32-bit signed integer “x”."
   ]
  },
  {
   "cell_type": "markdown",
   "id": "3609e3ba",
   "metadata": {},
   "source": [
    "Time Complexity: The time complexity is O(log10​ . N), where n is the absolute value of the input number. This is because the number of iterations in the loop is proportional to the number of digits in the number.\n",
    "\n",
    "Space Complexity: The space complexity is O(1). The function uses a fixed amount of space regardless of the input size."
   ]
  },
  {
   "cell_type": "code",
   "execution_count": 2,
   "id": "0d8b57db",
   "metadata": {},
   "outputs": [
    {
     "name": "stdout",
     "output_type": "stream",
     "text": [
      "-321\n"
     ]
    }
   ],
   "source": [
    "class Solution:\n",
    "\tdef reverse_the_number(self, x:int)->int:\n",
    "\t\tanswer = 0\n",
    "\t\t\n",
    "\t\tis_negative = False\n",
    "\t\tif x<0:\n",
    "\t\t\tis_negative = True\n",
    "\t\t\t\n",
    "\t\tnum = abs(x)\n",
    "\t\twhile num>0:\n",
    "\t\t\tdigit = num % 10\n",
    "\t\t\tanswer = (answer * 10) + digit\t\n",
    "\t\t\tnum = num//10\n",
    "\n",
    "\t\tif answer < (-(21**31)) or answer > (2**31 - 1):\n",
    "\t\t\treturn 0\t\n",
    "\t\treturn -1*answer if is_negative else answer\n",
    "\t\n",
    "if __name__ == \"__main__\":\n",
    "    sol = Solution()\n",
    "    print(sol.reverse_the_number(-123))"
   ]
  },
  {
   "cell_type": "markdown",
   "id": "9b025bb9",
   "metadata": {},
   "source": [
    "# check if the number is palindrome or not"
   ]
  },
  {
   "cell_type": "markdown",
   "id": "4ea8bc6d",
   "metadata": {},
   "source": [
    "- This can be done by using above code.\n",
    "= if the reversed number and original number are same then it is palindrome"
   ]
  },
  {
   "cell_type": "code",
   "execution_count": 4,
   "id": "39546ef4",
   "metadata": {},
   "outputs": [
    {
     "name": "stdout",
     "output_type": "stream",
     "text": [
      "12332 is not a palindrome\n"
     ]
    }
   ],
   "source": [
    "num = 12332\n",
    "sol = Solution()\n",
    "reversed_number = sol.reverse_the_number(num)\n",
    "if reversed_number == num:\n",
    "    print(f\"{num} is a palindrome\")\n",
    "else:\n",
    "    print(f\"{num} is not a palindrome\")"
   ]
  },
  {
   "cell_type": "markdown",
   "id": "8fcd10a7",
   "metadata": {},
   "source": [
    "# Armstrong Number"
   ]
  },
  {
   "cell_type": "markdown",
   "id": "c8ad81ca",
   "metadata": {},
   "source": [
    "153 = 1^3 + 5^3 +3^3 = 153\n"
   ]
  },
  {
   "cell_type": "code",
   "execution_count": 7,
   "id": "962a938d",
   "metadata": {},
   "outputs": [
    {
     "name": "stdout",
     "output_type": "stream",
     "text": [
      "153 is an Armstrong number\n"
     ]
    }
   ],
   "source": [
    "class Solution:\n",
    "    def isArmstrong(self, num: int) -> int:\n",
    "        total = 0\n",
    "        n = len(str(num))\n",
    "        while num>0:\n",
    "            x = num%10\n",
    "            num = num//10\n",
    "            total += x**n\n",
    "        return total\n",
    "    \n",
    "if __name__==\"__main__\":\n",
    "    sol = Solution()\n",
    "    num = 153\n",
    "    if sol.isArmstrong(num) == num:\n",
    "        print(f\"{num} is an Armstrong number\")\n",
    "    else:\n",
    "        print(f\"{num} is not an Armstrong number\")\n",
    "    "
   ]
  },
  {
   "cell_type": "markdown",
   "id": "a99652fe",
   "metadata": {},
   "source": [
    "# find all factors of a number"
   ]
  },
  {
   "cell_type": "markdown",
   "id": "2d042ed2",
   "metadata": {},
   "source": [
    "- here time complexity of while loop is O(sqrt(n)) \\n\n",
    "- time complexity of sort function is O(n log n)\\n\n",
    "- total time complexity is O(sqrt(n)) + O(n log n)\n",
    "- space complexity is O(k)"
   ]
  },
  {
   "cell_type": "code",
   "execution_count": 16,
   "id": "9f2babc4",
   "metadata": {},
   "outputs": [
    {
     "name": "stdout",
     "output_type": "stream",
     "text": [
      "factors of 36 are [1, 2, 3, 4, 6, 9, 12, 18, 36]\n"
     ]
    }
   ],
   "source": [
    "from math import sqrt\n",
    "class Solution:\n",
    "    def get_factors(self, num: int) -> list[int]:\n",
    "        factors = []\n",
    "        i = 1\n",
    "        while i < int(sqrt(num)) +1:\n",
    "            if num%i==0:\n",
    "                factors.append(i)\n",
    "                x = int(num//i)\n",
    "                if x!=i:\n",
    "                    factors.append(x)\n",
    "            i+=1\n",
    "        factors.sort()\n",
    "        return factors\n",
    "if __name__==\"__main__\":\n",
    "    sol = Solution()\n",
    "    num = 36\n",
    "    print(f\"factors of {num} are {sol.get_factors(num)}\")"
   ]
  },
  {
   "cell_type": "markdown",
   "id": "4da5bdc9",
   "metadata": {},
   "source": [
    "# check if number is prime or not"
   ]
  },
  {
   "cell_type": "code",
   "execution_count": null,
   "id": "4e929adb",
   "metadata": {},
   "outputs": [
    {
     "name": "stdout",
     "output_type": "stream",
     "text": [
      "9 is a prime number\n"
     ]
    }
   ],
   "source": [
    "class Prime:\n",
    "    def is_prime(self, num: int)-> bool:\n",
    "        count = 0\n",
    "        if num<=1:\n",
    "            return False\n",
    "        i = 2\n",
    "        while i*i <= num:\n",
    "            if num%i==0:\n",
    "                count+=1\n",
    "            i+=1\n",
    "        \n",
    "        if count == 0:\n",
    "            return True\n",
    "        \n",
    "        return False\n",
    "    \n",
    "if __name__==\"__main__\":\n",
    "    sol = Prime()\n",
    "    num = 9\n",
    "    if sol.is_prime(num):\n",
    "        print(f\"{num} is a prime number\")\n",
    "    else:\n",
    "        print(f\"{num} is not a prime number\")"
   ]
  },
  {
   "cell_type": "code",
   "execution_count": null,
   "id": "45632a40",
   "metadata": {},
   "outputs": [],
   "source": []
  }
 ],
 "metadata": {
  "kernelspec": {
   "display_name": "venv",
   "language": "python",
   "name": "python3"
  },
  "language_info": {
   "codemirror_mode": {
    "name": "ipython",
    "version": 3
   },
   "file_extension": ".py",
   "mimetype": "text/x-python",
   "name": "python",
   "nbconvert_exporter": "python",
   "pygments_lexer": "ipython3",
   "version": "3.10.11"
  }
 },
 "nbformat": 4,
 "nbformat_minor": 5
}
