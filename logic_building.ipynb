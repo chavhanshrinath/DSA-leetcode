{
 "cells": [
  {
   "cell_type": "markdown",
   "id": "5290f95a",
   "metadata": {},
   "source": [
    "1. The code aims to solve the problem of reversing the digits of a 32-bit signed integer “x”."
   ]
  },
  {
   "cell_type": "markdown",
   "id": "3609e3ba",
   "metadata": {},
   "source": [
    "Time Complexity: The time complexity is O(log10​ . N), where n is the absolute value of the input number. This is because the number of iterations in the loop is proportional to the number of digits in the number.\n",
    "\n",
    "Space Complexity: The space complexity is O(1). The function uses a fixed amount of space regardless of the input size."
   ]
  },
  {
   "cell_type": "code",
   "execution_count": null,
   "id": "0d8b57db",
   "metadata": {},
   "outputs": [
    {
     "name": "stdout",
     "output_type": "stream",
     "text": [
      "-321\n"
     ]
    }
   ],
   "source": [
    "class Solution:\n",
    "\tdef reverse_the_number(self, x:int)->int:\n",
    "\t\tanswer = 0\n",
    "\t\t\n",
    "\t\tis_negative = False\n",
    "\t\tif x<0:\n",
    "\t\t\tis_negative = True\n",
    "\t\t\t\n",
    "\t\tnum = abs(x)\n",
    "\t\twhile num>0:\n",
    "\t\t\tdigit = num % 10\n",
    "\t\t\tanswer = (answer * 10) + digit\t\n",
    "\t\t\tnum = num//10\n",
    "\n",
    "\t\tif answer < (-(21**31)) or answer > (2**31 - 1):\n",
    "\t\t\treturn 0\t\n",
    "\t\treturn -1*answer if is_negative else answer\n",
    "\t\n",
    "if __name__ == \"__main__\":\n",
    "    sol = Solution()\n",
    "    print(sol.reverse_the_number(-123))"
   ]
  },
  {
   "cell_type": "code",
   "execution_count": null,
   "id": "e9703cfc",
   "metadata": {},
   "outputs": [],
   "source": []
  }
 ],
 "metadata": {
  "kernelspec": {
   "display_name": "venv",
   "language": "python",
   "name": "python3"
  },
  "language_info": {
   "codemirror_mode": {
    "name": "ipython",
    "version": 3
   },
   "file_extension": ".py",
   "mimetype": "text/x-python",
   "name": "python",
   "nbconvert_exporter": "python",
   "pygments_lexer": "ipython3",
   "version": "3.10.11"
  }
 },
 "nbformat": 4,
 "nbformat_minor": 5
}
