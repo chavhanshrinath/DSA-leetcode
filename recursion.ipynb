{
 "cells": [
  {
   "cell_type": "markdown",
   "id": "b15a968a",
   "metadata": {},
   "source": [
    "# recursion"
   ]
  },
  {
   "cell_type": "markdown",
   "id": "b73a49f4",
   "metadata": {},
   "source": [
    "- function calls itself\n",
    "- head recursion and tail recursion\n",
    "- parameterized and functional recursion\n"
   ]
  },
  {
   "cell_type": "markdown",
   "id": "418031b9",
   "metadata": {},
   "source": [
    "1. Print 1 to N with out for loop"
   ]
  },
  {
   "cell_type": "markdown",
   "id": "e6edbbe6",
   "metadata": {},
   "source": [
    "Tail recursion or Backtracking"
   ]
  },
  {
   "cell_type": "code",
   "execution_count": 3,
   "id": "4966b021",
   "metadata": {},
   "outputs": [
    {
     "name": "stdout",
     "output_type": "stream",
     "text": [
      "1 2 3 4 5 "
     ]
    }
   ],
   "source": [
    "def func(i,n):\n",
    "    if i>n:\n",
    "        return\n",
    "    print(i, end=' ')\n",
    "    func(i+1,n)\n",
    "\n",
    "func(1,5)"
   ]
  },
  {
   "cell_type": "markdown",
   "id": "e6bd5a8d",
   "metadata": {},
   "source": [
    "Head recursion\n",
    "- print name N times\n",
    "- parameterized recursion"
   ]
  },
  {
   "cell_type": "code",
   "execution_count": 4,
   "id": "f01c6203",
   "metadata": {},
   "outputs": [
    {
     "name": "stdout",
     "output_type": "stream",
     "text": [
      "Shrinath Shrinath Shrinath Shrinath Shrinath "
     ]
    }
   ],
   "source": [
    "def func(n,count = 0):\n",
    "    if count == 5:\n",
    "        return\n",
    "    func(n,count+1)\n",
    "    print(\"Shrinath\", end=' ')\n",
    "\n",
    "func(5)"
   ]
  },
  {
   "cell_type": "markdown",
   "id": "0470c52d",
   "metadata": {},
   "source": [
    "sum of first N terms\n",
    "- functional recursion"
   ]
  },
  {
   "cell_type": "code",
   "execution_count": 6,
   "id": "7527cfc5",
   "metadata": {},
   "outputs": [
    {
     "name": "stdout",
     "output_type": "stream",
     "text": [
      "55\n"
     ]
    }
   ],
   "source": [
    "def func(sum=0,i = 0,n=10):\n",
    "    if i>n:\n",
    "        print(sum)\n",
    "        return sum\n",
    "    sum = sum + i\n",
    "    func(sum, i+1,n)\n",
    "\n",
    "func()"
   ]
  },
  {
   "cell_type": "code",
   "execution_count": 2,
   "id": "5293bfc9",
   "metadata": {},
   "outputs": [
    {
     "name": "stdout",
     "output_type": "stream",
     "text": [
      "55\n"
     ]
    }
   ],
   "source": [
    "def func(sum,i,n):\n",
    "    if i>n:\n",
    "        return sum\n",
    "    return func(sum+i, i+1,n)\n",
    "\n",
    "result = func(0,1,10)\n",
    "print(result)"
   ]
  },
  {
   "cell_type": "markdown",
   "id": "6272667d",
   "metadata": {},
   "source": [
    "Factorial of a number"
   ]
  },
  {
   "cell_type": "code",
   "execution_count": 3,
   "id": "0c215e5a",
   "metadata": {},
   "outputs": [
    {
     "name": "stdout",
     "output_type": "stream",
     "text": [
      "Factorial of 5 is 120\n"
     ]
    }
   ],
   "source": [
    "def factorial(n):\n",
    "    if n==0:\n",
    "        return 1\n",
    "    return n* factorial(n-1)\n",
    "\n",
    "num = 5\n",
    "result = factorial(num)\n",
    "print(f\"Factorial of {num} is {result}\")"
   ]
  },
  {
   "cell_type": "markdown",
   "id": "6f590ab8",
   "metadata": {},
   "source": [
    "reverse a array using recursion"
   ]
  },
  {
   "cell_type": "code",
   "execution_count": 2,
   "id": "5df398e2",
   "metadata": {},
   "outputs": [
    {
     "name": "stdout",
     "output_type": "stream",
     "text": [
      "Reversed number is 4321\n"
     ]
    }
   ],
   "source": [
    "def func(reversed_num:int,n: int):\n",
    "    if n==0:\n",
    "        return reversed_num\n",
    "    digit = n%10\n",
    "    reversed_num = reversed_num*10 + digit\n",
    "    return func(reversed_num, n//10)\n",
    "n = 1234\n",
    "reversed_number = func(0,n)\n",
    "print(f\"Reversed number is {reversed_number}\")\n",
    "\n",
    "    "
   ]
  },
  {
   "cell_type": "code",
   "execution_count": null,
   "id": "afffcf14",
   "metadata": {},
   "outputs": [],
   "source": []
  }
 ],
 "metadata": {
  "kernelspec": {
   "display_name": "venv",
   "language": "python",
   "name": "python3"
  },
  "language_info": {
   "codemirror_mode": {
    "name": "ipython",
    "version": 3
   },
   "file_extension": ".py",
   "mimetype": "text/x-python",
   "name": "python",
   "nbconvert_exporter": "python",
   "pygments_lexer": "ipython3",
   "version": "3.10.11"
  }
 },
 "nbformat": 4,
 "nbformat_minor": 5
}
