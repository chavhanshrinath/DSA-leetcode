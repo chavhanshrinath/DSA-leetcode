{
 "cells": [
  {
   "cell_type": "markdown",
   "id": "60d470dd",
   "metadata": {},
   "source": [
    "# Selection sort"
   ]
  },
  {
   "cell_type": "code",
   "execution_count": 8,
   "id": "8682e21b",
   "metadata": {},
   "outputs": [
    {
     "name": "stdout",
     "output_type": "stream",
     "text": [
      "[1, 5, 7, 11, 21, 22, 22, 34, 53, 87]\n"
     ]
    }
   ],
   "source": [
    "a = [1,7,5,34,87,22,11,53,22,21]\n",
    "\n",
    "def selection_sort(arr):\n",
    "    i,j,min_index = 0,0,0\n",
    "    for i in range(len(arr)):\n",
    "        min_index = i\n",
    "        for j in range(i+1,len(arr)):\n",
    "            if arr[j]<arr[min_index]:\n",
    "                min_index = j\n",
    "        arr[min_index],arr[i]=arr[i],arr[min_index]\n",
    "            \n",
    "    return arr\n",
    "result = selection_sort(a)\n",
    "print(result)"
   ]
  },
  {
   "cell_type": "markdown",
   "id": "a8a828ce",
   "metadata": {},
   "source": [
    "Selection sort in descending order"
   ]
  },
  {
   "cell_type": "code",
   "execution_count": 14,
   "id": "2c680e5b",
   "metadata": {},
   "outputs": [
    {
     "name": "stdout",
     "output_type": "stream",
     "text": [
      "[87, 53, 34, 22, 22, 21, 11, 7, 5, 1]\n"
     ]
    }
   ],
   "source": [
    "def selection_sort_descending(arr):\n",
    "\tn = len(arr)\n",
    "\tmax_index = 0\n",
    "\tfor i in range(n):\n",
    "\t\tmax_index = i\n",
    "\t\tfor j in range(i+1,n):\n",
    "\t\t\tif arr[j] > arr[max_index]:\n",
    "\t\t\t\tarr[max_index],arr[j] = arr[j],arr[max_index]\n",
    "\treturn arr\n",
    "\n",
    "a = [1,7,5,34,87,22,11,53,22,21]\n",
    "result = selection_sort_descending(a)\n",
    "print(result)"
   ]
  },
  {
   "cell_type": "markdown",
   "id": "be1ce23c",
   "metadata": {},
   "source": [
    "# Bubble sort"
   ]
  },
  {
   "cell_type": "markdown",
   "id": "ea791c94",
   "metadata": {},
   "source": [
    "also check if the list is already sorted.\n",
    "- that means best case TC -  O(n)\n",
    "- worst case TC - O(n^2)"
   ]
  },
  {
   "cell_type": "code",
   "execution_count": 13,
   "id": "c84b67c3",
   "metadata": {},
   "outputs": [
    {
     "name": "stdout",
     "output_type": "stream",
     "text": [
      "[5, 6, 7, 11, 21, 22, 22, 34, 53, 87]\n"
     ]
    }
   ],
   "source": [
    "\n",
    "a = [6,7,5,34,87,22,11,53,22,21]\n",
    "def bubble_sort(arr):\n",
    "\tn = len(a)\n",
    "\tis_swapped = False\n",
    "\tfor i in range(0,n):\n",
    "\t\tfor j in range(0,n-1-i):\n",
    "\t\t\tif arr[j+1] < arr[j]:\n",
    "\t\t\t\tarr[j+1],arr[j] = arr[j],arr[j+1]\n",
    "\t\t\t\tis_swapped = True\n",
    "\t\tif not is_swapped:\n",
    "\t\t\tbreak\n",
    "\treturn arr\n",
    "\t\n",
    "result = bubble_sort(a)\n",
    "print(result)\n"
   ]
  },
  {
   "cell_type": "code",
   "execution_count": null,
   "id": "739c768e",
   "metadata": {},
   "outputs": [],
   "source": []
  }
 ],
 "metadata": {
  "kernelspec": {
   "display_name": "venv",
   "language": "python",
   "name": "python3"
  },
  "language_info": {
   "codemirror_mode": {
    "name": "ipython",
    "version": 3
   },
   "file_extension": ".py",
   "mimetype": "text/x-python",
   "name": "python",
   "nbconvert_exporter": "python",
   "pygments_lexer": "ipython3",
   "version": "3.10.11"
  }
 },
 "nbformat": 4,
 "nbformat_minor": 5
}
